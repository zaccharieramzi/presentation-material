{
 "cells": [
  {
   "cell_type": "code",
   "execution_count": 5,
   "metadata": {},
   "outputs": [],
   "source": [
    "# what I have\n",
    "experiment_param_1 = 1\n",
    "experiment_param_2 = 2\n",
    "experiment_param_3 = 3\n",
    "experiment_param_4 = 4\n",
    "experiment_param_5 = 5\n",
    "experiment_param_6 = 6"
   ]
  },
  {
   "cell_type": "code",
   "execution_count": 3,
   "metadata": {},
   "outputs": [],
   "source": [
    "# what I want just after for the sake of readability (this is a notebook)\n",
    "second_experiment_param_1 = 1\n",
    "second_experiment_param_2 = 2\n",
    "second_experiment_param_3 = 3\n",
    "second_experiment_param_4 = 4\n",
    "second_experiment_param_5 = 5\n",
    "second_experiment_param_6 = 6"
   ]
  },
  {
   "cell_type": "code",
   "execution_count": null,
   "metadata": {},
   "outputs": [],
   "source": []
  }
 ],
 "metadata": {
  "kernelspec": {
   "display_name": "Python 3",
   "language": "python",
   "name": "python3"
  },
  "language_info": {
   "codemirror_mode": {
    "name": "ipython",
    "version": 3
   },
   "file_extension": ".py",
   "mimetype": "text/x-python",
   "name": "python",
   "nbconvert_exporter": "python",
   "pygments_lexer": "ipython3",
   "version": "3.6.10"
  }
 },
 "nbformat": 4,
 "nbformat_minor": 4
}
